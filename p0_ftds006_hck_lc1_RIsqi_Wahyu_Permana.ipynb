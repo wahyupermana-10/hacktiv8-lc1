{
 "cells": [
  {
   "attachments": {},
   "cell_type": "markdown",
   "metadata": {},
   "source": [
    "Live Code 1 <br>\n",
    "Nama : Risqi Wahyu Permana <br>\n",
    "Batch : HCK 6"
   ]
  },
  {
   "attachments": {},
   "cell_type": "markdown",
   "metadata": {},
   "source": [
    "## Objective"
   ]
  },
  {
   "attachments": {},
   "cell_type": "markdown",
   "metadata": {},
   "source": [
    "Tim produksi dari perusahaan perusahaan manufaktur baterai Lithium ion meminta pada salah satu orang dari data scientist untuk melakukan pengecekan kualitas pada baterai yang telah di produksi. Tahap pertama sebelum melakukan pengecekan lebih lanjut adalah dengan melakukan perhitungan hambatan/resistansi dan daya setiap detik"
   ]
  },
  {
   "attachments": {},
   "cell_type": "markdown",
   "metadata": {},
   "source": [
    "## 1. Buatlah dua fungsi eksplisit masing-masing memuat perhitungan hambatan (R) dan daya (P) yang nantinya akan digunakan untuk perhitungan"
   ]
  },
  {
   "attachments": {},
   "cell_type": "markdown",
   "metadata": {},
   "source": [
    "### Import Library"
   ]
  },
  {
   "cell_type": "code",
   "execution_count": 1,
   "metadata": {},
   "outputs": [],
   "source": [
    "import pandas as pd"
   ]
  },
  {
   "attachments": {},
   "cell_type": "markdown",
   "metadata": {},
   "source": [
    "### Data Loading"
   ]
  },
  {
   "cell_type": "code",
   "execution_count": 2,
   "metadata": {},
   "outputs": [],
   "source": [
    "#import dataset from https://github.com/fahmimnalfrzki/Dataset/blob/main/NMC1-9.xlsx?raw=true\n",
    "batt = pd.read_excel('https://github.com/fahmimnalfrzki/Dataset/blob/main/NMC1-9.xlsx?raw=true')"
   ]
  },
  {
   "cell_type": "code",
   "execution_count": 3,
   "metadata": {},
   "outputs": [
    {
     "data": {
      "text/html": [
       "<div>\n",
       "<style scoped>\n",
       "    .dataframe tbody tr th:only-of-type {\n",
       "        vertical-align: middle;\n",
       "    }\n",
       "\n",
       "    .dataframe tbody tr th {\n",
       "        vertical-align: top;\n",
       "    }\n",
       "\n",
       "    .dataframe thead th {\n",
       "        text-align: right;\n",
       "    }\n",
       "</style>\n",
       "<table border=\"1\" class=\"dataframe\">\n",
       "  <thead>\n",
       "    <tr style=\"text-align: right;\">\n",
       "      <th></th>\n",
       "      <th>time(s)</th>\n",
       "      <th>V_m</th>\n",
       "      <th>Current (A)</th>\n",
       "      <th>Cycle</th>\n",
       "      <th>Cap</th>\n",
       "    </tr>\n",
       "  </thead>\n",
       "  <tbody>\n",
       "    <tr>\n",
       "      <th>0</th>\n",
       "      <td>0</td>\n",
       "      <td>4.098</td>\n",
       "      <td>0.997</td>\n",
       "      <td>1</td>\n",
       "      <td>2.840817</td>\n",
       "    </tr>\n",
       "    <tr>\n",
       "      <th>1</th>\n",
       "      <td>1</td>\n",
       "      <td>4.096</td>\n",
       "      <td>0.998</td>\n",
       "      <td>1</td>\n",
       "      <td>2.840817</td>\n",
       "    </tr>\n",
       "    <tr>\n",
       "      <th>2</th>\n",
       "      <td>2</td>\n",
       "      <td>4.094</td>\n",
       "      <td>0.999</td>\n",
       "      <td>1</td>\n",
       "      <td>2.840817</td>\n",
       "    </tr>\n",
       "    <tr>\n",
       "      <th>3</th>\n",
       "      <td>3</td>\n",
       "      <td>4.093</td>\n",
       "      <td>0.998</td>\n",
       "      <td>1</td>\n",
       "      <td>2.840817</td>\n",
       "    </tr>\n",
       "    <tr>\n",
       "      <th>4</th>\n",
       "      <td>4</td>\n",
       "      <td>4.092</td>\n",
       "      <td>0.999</td>\n",
       "      <td>1</td>\n",
       "      <td>2.840817</td>\n",
       "    </tr>\n",
       "  </tbody>\n",
       "</table>\n",
       "</div>"
      ],
      "text/plain": [
       "   time(s)    V_m  Current (A)  Cycle       Cap\n",
       "0        0  4.098        0.997      1  2.840817\n",
       "1        1  4.096        0.998      1  2.840817\n",
       "2        2  4.094        0.999      1  2.840817\n",
       "3        3  4.093        0.998      1  2.840817\n",
       "4        4  4.092        0.999      1  2.840817"
      ]
     },
     "execution_count": 3,
     "metadata": {},
     "output_type": "execute_result"
    }
   ],
   "source": [
    "batt.head()"
   ]
  },
  {
   "attachments": {},
   "cell_type": "markdown",
   "metadata": {},
   "source": [
    "### Answer"
   ]
  },
  {
   "cell_type": "code",
   "execution_count": 4,
   "metadata": {},
   "outputs": [],
   "source": [
    "#membuat fungsi rumus hambatan\n",
    "def hambatan(v, i):\n",
    "    r = v/i\n",
    "    return r\n",
    "\n",
    "#membuat fungsi rumus daya\n",
    "def daya(v, i):\n",
    "    p = v*i\n",
    "    return p"
   ]
  },
  {
   "attachments": {},
   "cell_type": "markdown",
   "metadata": {},
   "source": [
    "## 2. Buat kolom baru dengan nama kolom R/P berisikan hasil perhitungan daya/hambatan dengan kriteria untuk Kapasitas >=2.5 hitung daya, Kapasitas <2.5 hitung nilai hambatan."
   ]
  },
  {
   "attachments": {},
   "cell_type": "markdown",
   "metadata": {},
   "source": [
    "### Answer"
   ]
  },
  {
   "cell_type": "code",
   "execution_count": 5,
   "metadata": {},
   "outputs": [],
   "source": [
    "list_hasil = []\n",
    "for i in range(len(batt)):\n",
    "    if batt['Cap'][i] >= 2.5: #jika kapasitas baterai >= 2.5 maka akan menghitung daya\n",
    "        hasil = daya(batt['V_m'][i], batt['Current (A)'][i])\n",
    "        list_hasil.append(hasil)\n",
    "    else: #jika kapasitas baterai < 2.5 maka akan menghitung hambatan\n",
    "        hasil = hambatan(batt['V_m'][i], batt['Current (A)'][i])\n",
    "        list_hasil.append(hasil)\n",
    "\n",
    "batt['R/P'] = list_hasil\n"
   ]
  },
  {
   "attachments": {},
   "cell_type": "markdown",
   "metadata": {},
   "source": [
    "### Result"
   ]
  },
  {
   "cell_type": "code",
   "execution_count": 7,
   "metadata": {},
   "outputs": [
    {
     "data": {
      "text/html": [
       "<div>\n",
       "<style scoped>\n",
       "    .dataframe tbody tr th:only-of-type {\n",
       "        vertical-align: middle;\n",
       "    }\n",
       "\n",
       "    .dataframe tbody tr th {\n",
       "        vertical-align: top;\n",
       "    }\n",
       "\n",
       "    .dataframe thead th {\n",
       "        text-align: right;\n",
       "    }\n",
       "</style>\n",
       "<table border=\"1\" class=\"dataframe\">\n",
       "  <thead>\n",
       "    <tr style=\"text-align: right;\">\n",
       "      <th></th>\n",
       "      <th>time(s)</th>\n",
       "      <th>V_m</th>\n",
       "      <th>Current (A)</th>\n",
       "      <th>Cycle</th>\n",
       "      <th>Cap</th>\n",
       "      <th>R/P</th>\n",
       "    </tr>\n",
       "  </thead>\n",
       "  <tbody>\n",
       "    <tr>\n",
       "      <th>54619</th>\n",
       "      <td>54619</td>\n",
       "      <td>3.759</td>\n",
       "      <td>0.997</td>\n",
       "      <td>6</td>\n",
       "      <td>2.790726</td>\n",
       "      <td>3.747723</td>\n",
       "    </tr>\n",
       "    <tr>\n",
       "      <th>29238</th>\n",
       "      <td>29238</td>\n",
       "      <td>3.253</td>\n",
       "      <td>0.997</td>\n",
       "      <td>3</td>\n",
       "      <td>2.823520</td>\n",
       "      <td>3.243241</td>\n",
       "    </tr>\n",
       "    <tr>\n",
       "      <th>30942</th>\n",
       "      <td>30942</td>\n",
       "      <td>4.039</td>\n",
       "      <td>0.996</td>\n",
       "      <td>4</td>\n",
       "      <td>2.820395</td>\n",
       "      <td>4.022844</td>\n",
       "    </tr>\n",
       "    <tr>\n",
       "      <th>40457</th>\n",
       "      <td>40457</td>\n",
       "      <td>2.881</td>\n",
       "      <td>1.000</td>\n",
       "      <td>4</td>\n",
       "      <td>2.820395</td>\n",
       "      <td>2.881000</td>\n",
       "    </tr>\n",
       "    <tr>\n",
       "      <th>63964</th>\n",
       "      <td>63964</td>\n",
       "      <td>3.820</td>\n",
       "      <td>0.997</td>\n",
       "      <td>7</td>\n",
       "      <td>2.786860</td>\n",
       "      <td>3.808540</td>\n",
       "    </tr>\n",
       "    <tr>\n",
       "      <th>33277</th>\n",
       "      <td>33277</td>\n",
       "      <td>3.857</td>\n",
       "      <td>0.997</td>\n",
       "      <td>4</td>\n",
       "      <td>2.820395</td>\n",
       "      <td>3.845429</td>\n",
       "    </tr>\n",
       "    <tr>\n",
       "      <th>44916</th>\n",
       "      <td>44916</td>\n",
       "      <td>3.725</td>\n",
       "      <td>0.997</td>\n",
       "      <td>5</td>\n",
       "      <td>2.804878</td>\n",
       "      <td>3.713825</td>\n",
       "    </tr>\n",
       "    <tr>\n",
       "      <th>3194</th>\n",
       "      <td>3194</td>\n",
       "      <td>3.801</td>\n",
       "      <td>0.999</td>\n",
       "      <td>1</td>\n",
       "      <td>2.840817</td>\n",
       "      <td>3.797199</td>\n",
       "    </tr>\n",
       "    <tr>\n",
       "      <th>22200</th>\n",
       "      <td>22200</td>\n",
       "      <td>3.951</td>\n",
       "      <td>1.001</td>\n",
       "      <td>3</td>\n",
       "      <td>2.823520</td>\n",
       "      <td>3.954951</td>\n",
       "    </tr>\n",
       "    <tr>\n",
       "      <th>45388</th>\n",
       "      <td>45388</td>\n",
       "      <td>3.681</td>\n",
       "      <td>0.998</td>\n",
       "      <td>5</td>\n",
       "      <td>2.804878</td>\n",
       "      <td>3.673638</td>\n",
       "    </tr>\n",
       "  </tbody>\n",
       "</table>\n",
       "</div>"
      ],
      "text/plain": [
       "       time(s)    V_m  Current (A)  Cycle       Cap       R/P\n",
       "54619    54619  3.759        0.997      6  2.790726  3.747723\n",
       "29238    29238  3.253        0.997      3  2.823520  3.243241\n",
       "30942    30942  4.039        0.996      4  2.820395  4.022844\n",
       "40457    40457  2.881        1.000      4  2.820395  2.881000\n",
       "63964    63964  3.820        0.997      7  2.786860  3.808540\n",
       "33277    33277  3.857        0.997      4  2.820395  3.845429\n",
       "44916    44916  3.725        0.997      5  2.804878  3.713825\n",
       "3194      3194  3.801        0.999      1  2.840817  3.797199\n",
       "22200    22200  3.951        1.001      3  2.823520  3.954951\n",
       "45388    45388  3.681        0.998      5  2.804878  3.673638"
      ]
     },
     "execution_count": 7,
     "metadata": {},
     "output_type": "execute_result"
    }
   ],
   "source": [
    "# soal nomor 1, menghitung hambatan atau daya\n",
    "batt.sample(10)"
   ]
  },
  {
   "attachments": {},
   "cell_type": "markdown",
   "metadata": {},
   "source": [
    "## 3. Hitunglah rata-rata nilai kapasitas untuk arus = 1 Ampere dan cycle ganjil."
   ]
  },
  {
   "attachments": {},
   "cell_type": "markdown",
   "metadata": {},
   "source": [
    "### Answer"
   ]
  },
  {
   "cell_type": "code",
   "execution_count": 6,
   "metadata": {},
   "outputs": [
    {
     "data": {
      "text/html": [
       "<div>\n",
       "<style scoped>\n",
       "    .dataframe tbody tr th:only-of-type {\n",
       "        vertical-align: middle;\n",
       "    }\n",
       "\n",
       "    .dataframe tbody tr th {\n",
       "        vertical-align: top;\n",
       "    }\n",
       "\n",
       "    .dataframe thead th {\n",
       "        text-align: right;\n",
       "    }\n",
       "</style>\n",
       "<table border=\"1\" class=\"dataframe\">\n",
       "  <thead>\n",
       "    <tr style=\"text-align: right;\">\n",
       "      <th></th>\n",
       "      <th>time(s)</th>\n",
       "      <th>V_m</th>\n",
       "      <th>Current (A)</th>\n",
       "      <th>Cycle</th>\n",
       "      <th>Cap</th>\n",
       "      <th>R/P</th>\n",
       "    </tr>\n",
       "  </thead>\n",
       "  <tbody>\n",
       "    <tr>\n",
       "      <th>86014</th>\n",
       "      <td>86014</td>\n",
       "      <td>3.639</td>\n",
       "      <td>1.0</td>\n",
       "      <td>9</td>\n",
       "      <td>2.770180</td>\n",
       "      <td>3.639</td>\n",
       "    </tr>\n",
       "    <tr>\n",
       "      <th>30437</th>\n",
       "      <td>30437</td>\n",
       "      <td>2.764</td>\n",
       "      <td>1.0</td>\n",
       "      <td>3</td>\n",
       "      <td>2.823520</td>\n",
       "      <td>2.764</td>\n",
       "    </tr>\n",
       "    <tr>\n",
       "      <th>29349</th>\n",
       "      <td>29349</td>\n",
       "      <td>3.224</td>\n",
       "      <td>1.0</td>\n",
       "      <td>3</td>\n",
       "      <td>2.823520</td>\n",
       "      <td>3.224</td>\n",
       "    </tr>\n",
       "    <tr>\n",
       "      <th>47306</th>\n",
       "      <td>47306</td>\n",
       "      <td>3.517</td>\n",
       "      <td>1.0</td>\n",
       "      <td>5</td>\n",
       "      <td>2.804878</td>\n",
       "      <td>3.517</td>\n",
       "    </tr>\n",
       "    <tr>\n",
       "      <th>86959</th>\n",
       "      <td>86959</td>\n",
       "      <td>3.555</td>\n",
       "      <td>1.0</td>\n",
       "      <td>9</td>\n",
       "      <td>2.770180</td>\n",
       "      <td>3.555</td>\n",
       "    </tr>\n",
       "    <tr>\n",
       "      <th>1572</th>\n",
       "      <td>1572</td>\n",
       "      <td>3.962</td>\n",
       "      <td>1.0</td>\n",
       "      <td>1</td>\n",
       "      <td>2.840817</td>\n",
       "      <td>3.962</td>\n",
       "    </tr>\n",
       "    <tr>\n",
       "      <th>50102</th>\n",
       "      <td>50102</td>\n",
       "      <td>3.082</td>\n",
       "      <td>1.0</td>\n",
       "      <td>5</td>\n",
       "      <td>2.804878</td>\n",
       "      <td>3.082</td>\n",
       "    </tr>\n",
       "    <tr>\n",
       "      <th>48564</th>\n",
       "      <td>48564</td>\n",
       "      <td>3.405</td>\n",
       "      <td>1.0</td>\n",
       "      <td>5</td>\n",
       "      <td>2.804878</td>\n",
       "      <td>3.405</td>\n",
       "    </tr>\n",
       "    <tr>\n",
       "      <th>26372</th>\n",
       "      <td>26372</td>\n",
       "      <td>3.560</td>\n",
       "      <td>1.0</td>\n",
       "      <td>3</td>\n",
       "      <td>2.823520</td>\n",
       "      <td>3.560</td>\n",
       "    </tr>\n",
       "    <tr>\n",
       "      <th>41921</th>\n",
       "      <td>41921</td>\n",
       "      <td>3.991</td>\n",
       "      <td>1.0</td>\n",
       "      <td>5</td>\n",
       "      <td>2.804878</td>\n",
       "      <td>3.991</td>\n",
       "    </tr>\n",
       "  </tbody>\n",
       "</table>\n",
       "</div>"
      ],
      "text/plain": [
       "       time(s)    V_m  Current (A)  Cycle       Cap    R/P\n",
       "86014    86014  3.639          1.0      9  2.770180  3.639\n",
       "30437    30437  2.764          1.0      3  2.823520  2.764\n",
       "29349    29349  3.224          1.0      3  2.823520  3.224\n",
       "47306    47306  3.517          1.0      5  2.804878  3.517\n",
       "86959    86959  3.555          1.0      9  2.770180  3.555\n",
       "1572      1572  3.962          1.0      1  2.840817  3.962\n",
       "50102    50102  3.082          1.0      5  2.804878  3.082\n",
       "48564    48564  3.405          1.0      5  2.804878  3.405\n",
       "26372    26372  3.560          1.0      3  2.823520  3.560\n",
       "41921    41921  3.991          1.0      5  2.804878  3.991"
      ]
     },
     "execution_count": 6,
     "metadata": {},
     "output_type": "execute_result"
    }
   ],
   "source": [
    "#menghitung rata-rata kapasitas baterai\n",
    "batt2 = batt[(batt['Current (A)'] == 1) & (batt['Cycle'] % 2 == 1)]\n",
    "rata_rata = batt2['Cap'].mean()\n",
    "batt2.sample(10)"
   ]
  },
  {
   "attachments": {},
   "cell_type": "markdown",
   "metadata": {},
   "source": [
    "### Result"
   ]
  },
  {
   "cell_type": "code",
   "execution_count": 8,
   "metadata": {},
   "outputs": [
    {
     "name": "stdout",
     "output_type": "stream",
     "text": [
      "Rata-rata kapasitas baterai adalah 2.8064845553925855\n"
     ]
    }
   ],
   "source": [
    "# soal nomor 2, menghitung rata-rata kapasitas baterai\n",
    "print('Rata-rata kapasitas baterai adalah', rata_rata)"
   ]
  }
 ],
 "metadata": {
  "kernelspec": {
   "display_name": "Python 3",
   "language": "python",
   "name": "python3"
  },
  "language_info": {
   "codemirror_mode": {
    "name": "ipython",
    "version": 3
   },
   "file_extension": ".py",
   "mimetype": "text/x-python",
   "name": "python",
   "nbconvert_exporter": "python",
   "pygments_lexer": "ipython3",
   "version": "3.9.13"
  },
  "orig_nbformat": 4
 },
 "nbformat": 4,
 "nbformat_minor": 2
}
